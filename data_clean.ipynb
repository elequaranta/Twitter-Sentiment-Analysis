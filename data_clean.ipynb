{
 "cells": [
  {
   "cell_type": "code",
   "execution_count": null,
   "metadata": {},
   "outputs": [],
   "source": [
    "import pandas as pd\n",
    "import re\n",
    "from nltk.tokenize import word_tokenize\n",
    "from nltk.corpus import stopwords\n",
    "from nltk.stem import PorterStemmer"
   ]
  },
  {
   "cell_type": "markdown",
   "metadata": {},
   "source": [
    "# Read data from Excel Sheet"
   ]
  },
  {
   "cell_type": "code",
   "execution_count": null,
   "metadata": {},
   "outputs": [],
   "source": [
    "filepath_o = ''\n",
    "filepath_r = ''\n",
    "df_obama = pd.read_excel('', sheet_name='Obama', header = None, names = ['tweets', 'class'])\n",
    "df_romney = pd.read_excel('', sheet_name='Romney', header = None, names = ['tweets', 'class'])"
   ]
  },
  {
   "cell_type": "code",
   "execution_count": null,
   "metadata": {},
   "outputs": [],
   "source": [
    "df_obama.head()"
   ]
  },
  {
   "cell_type": "code",
   "execution_count": null,
   "metadata": {},
   "outputs": [],
   "source": [
    "df_romney.head()"
   ]
  },
  {
   "cell_type": "markdown",
   "metadata": {},
   "source": [
    "# Data Cleaning"
   ]
  },
  {
   "cell_type": "code",
   "execution_count": null,
   "metadata": {},
   "outputs": [],
   "source": [
    "def clean_data(df):\n",
    "    df = df.drop(['Unnamed: 0', 'date', 'time', 'Unnamed: 5'], axis=1)\n",
    "    df = df.rename(columns = {'Unnamed: 4': 'class', 'Anootated tweet': 'tweets'})\n",
    "    df = df.dropna()\n",
    "    df = df[~df['class'].isin(['irrevelant', 'irrelevant', 'IR', 'Class', '!!!!', 2])]\n",
    "    df['class'] = df['class'].astype(int)\n",
    "    df = df.drop(df[df['class'] == 2].index)\n",
    "    df = df.reset_index(drop=True)\n",
    "\n",
    "    return df\n",
    "\n",
    "#df_obama = clean_data(df_obama)\n",
    "#df_romney = clean_data(df_romney)\n",
    "\n",
    "def clean_tweets(text):\n",
    "    text = text.lower()\n",
    "    text = re.sub('<[^>]+>', '', text) # remove HTML tags\n",
    "    text = re.sub('@[^\\s]+','',text) # remove usernames\n",
    "    text = re.sub('[<>!()_*/~\"|@$#:.,%\\?-]+', '', text) # remove punctuation and special characters\n",
    "    text = re.sub('http\\S+', '', text) # remove URLs\n",
    "    text = text.encode('ascii', 'ignore').decode('ascii') # remove non-ascii characters\n",
    "    text = re.sub(' +', ' ', text).strip() # remove extra spaces\n",
    "    if text == '':\n",
    "        return None\n",
    "    return text\n",
    "\n",
    "df_obama['tweets'] = df_obama['tweets'].apply(clean_tweets)\n",
    "df_romney['tweets'] = df_romney['tweets'].apply(clean_tweets)\n",
    "\n",
    "df_obama = df_obama.dropna()\n",
    "df_romney = df_romney.dropna()\n",
    "\n"
   ]
  },
  {
   "cell_type": "code",
   "execution_count": null,
   "metadata": {},
   "outputs": [],
   "source": [
    "df_obama.to_csv('test/test_obama_cleaned.csv', index=False)\n",
    "df_romney.to_csv('test/test_romney_cleaned.csv', index=False)"
   ]
  },
  {
   "cell_type": "code",
   "execution_count": null,
   "metadata": {},
   "outputs": [],
   "source": [
    "df_obama.head()"
   ]
  },
  {
   "cell_type": "code",
   "execution_count": null,
   "metadata": {},
   "outputs": [],
   "source": [
    "df_romney.head()"
   ]
  },
  {
   "cell_type": "code",
   "execution_count": null,
   "metadata": {},
   "outputs": [],
   "source": []
  }
 ],
 "metadata": {
  "kernelspec": {
   "display_name": "Python 3 (ipykernel)",
   "language": "python",
   "name": "python3"
  },
  "language_info": {
   "codemirror_mode": {
    "name": "ipython",
    "version": 3
   },
   "file_extension": ".py",
   "mimetype": "text/x-python",
   "name": "python",
   "nbconvert_exporter": "python",
   "pygments_lexer": "ipython3",
   "version": "3.10.12"
  }
 },
 "nbformat": 4,
 "nbformat_minor": 2
}
