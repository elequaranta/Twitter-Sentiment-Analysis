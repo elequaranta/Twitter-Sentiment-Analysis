{
 "cells": [
  {
   "cell_type": "code",
   "execution_count": null,
   "metadata": {},
   "outputs": [],
   "source": [
    "import numpy as np\n",
    "import pandas as pd\n",
    "from transformers import AutoModelForSequenceClassification, AutoTokenizer, TextClassificationPipeline\n",
    "from sklearn.metrics import accuracy_score, f1_score"
   ]
  },
  {
   "cell_type": "code",
   "execution_count": null,
   "metadata": {},
   "outputs": [],
   "source": [
    "dfo = pd.read_csv('data/test_obama_cleaned.csv', index_col=0)\n",
    "dfr = pd.read_csv('data/test_romney_cleaned.csv', index_col=0)"
   ]
  },
  {
   "cell_type": "code",
   "execution_count": null,
   "metadata": {},
   "outputs": [],
   "source": [
    "dfo.head()"
   ]
  },
  {
   "cell_type": "code",
   "execution_count": null,
   "metadata": {},
   "outputs": [],
   "source": [
    "dfo.columns"
   ]
  },
  {
   "cell_type": "code",
   "execution_count": null,
   "metadata": {},
   "outputs": [],
   "source": [
    "model_o = AutoModelForSequenceClassification.from_pretrained('models/obama_final')\n",
    "model_r = AutoModelForSequenceClassification.from_pretrained('models/romney_final')\n",
    "\n",
    "tokenizer = AutoTokenizer.from_pretrained(\"finiteautomata/bertweet-base-sentiment-analysis\")\n",
    "\n",
    "pipe_o = TextClassificationPipeline(model=model_o, tokenizer=tokenizer)\n",
    "pipe_r = TextClassificationPipeline(model=model_r, tokenizer=tokenizer)"
   ]
  },
  {
   "cell_type": "code",
   "execution_count": null,
   "metadata": {},
   "outputs": [],
   "source": [
    "pred_o = list()\n",
    "for tweet in dfo['tweets']:\n",
    "    pred_o.append(pipe_o(tweet)[0]['label'])\n",
    "\n",
    "pred_r = list()\n",
    "for tweet in dfr['tweets']:\n",
    "    pred_r.append(pipe_r(tweet)[0]['label'])"
   ]
  },
  {
   "cell_type": "code",
   "execution_count": null,
   "metadata": {},
   "outputs": [],
   "source": [
    "dfo['pred'] = pred_o\n",
    "dfr['pred'] = pred_r\n",
    "\n",
    "dfo['pred'] = dfo['pred'].map({'NEG': -1, 'NEU': 0, 'POS': 1})\n",
    "dfr['pred'] = dfr['pred'].map({'NEG': -1, 'NEU': 0, 'POS': 1})"
   ]
  },
  {
   "cell_type": "code",
   "execution_count": null,
   "metadata": {},
   "outputs": [],
   "source": [
    "dfo.head()"
   ]
  },
  {
   "cell_type": "code",
   "execution_count": null,
   "metadata": {},
   "outputs": [],
   "source": [
    "dfr.head()"
   ]
  },
  {
   "cell_type": "code",
   "execution_count": null,
   "metadata": {},
   "outputs": [],
   "source": [
    "with open('results/aarsh_eleonora_obama.txt', 'w') as f:\n",
    "    f.write('(setf x ‘(\\n')\n",
    "    for i, row in dfo.iterrows():\n",
    "        f.write(f'({i} {row[\"pred\"]})\\n')\n",
    "    f.write('))')\n",
    "    f.close()\n",
    "\n",
    "with open('results/aarsh_eleonora_romney.txt', 'w') as f:\n",
    "    f.write('(setf x ‘(\\n')\n",
    "    for i, row in dfr.iterrows():\n",
    "        f.write(f'({i} {row[\"pred\"]})\\n')\n",
    "    f.write('))')\n",
    "    f.close()"
   ]
  },
  {
   "cell_type": "code",
   "execution_count": null,
   "metadata": {},
   "outputs": [],
   "source": []
  }
 ],
 "metadata": {
  "kernelspec": {
   "display_name": "Python 3 (ipykernel)",
   "language": "python",
   "name": "python3"
  },
  "language_info": {
   "codemirror_mode": {
    "name": "ipython",
    "version": 3
   },
   "file_extension": ".py",
   "mimetype": "text/x-python",
   "name": "python",
   "nbconvert_exporter": "python",
   "pygments_lexer": "ipython3",
   "version": "3.10.12"
  }
 },
 "nbformat": 4,
 "nbformat_minor": 2
}
