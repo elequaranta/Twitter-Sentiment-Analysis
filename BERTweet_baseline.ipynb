{
 "cells": [
  {
   "cell_type": "code",
   "execution_count": 1,
   "id": "0e94b098",
   "metadata": {},
   "outputs": [],
   "source": [
    "import pandas as pd\n",
    "import numpy as np\n",
    "from pysentimiento import create_analyzer\n",
    "from sklearn.model_selection import train_test_split, ParameterGrid\n",
    "from sklearn.metrics import accuracy_score, f1_score, precision_score, recall_score, confusion_matrix, ConfusionMatrixDisplay\n",
    "from sklearn.svm import SVC\n",
    "from sklearn.ensemble import RandomForestClassifier\n",
    "from sklearn.model_selection import KFold\n",
    "from sklearn.neighbors import KNeighborsClassifier\n",
    "from sklearn.linear_model import LogisticRegression\n"
   ]
  },
  {
   "cell_type": "code",
   "execution_count": 2,
   "id": "3fb2b17a",
   "metadata": {},
   "outputs": [
    {
     "name": "stdout",
     "output_type": "stream",
     "text": [
      "<class 'pandas.core.frame.DataFrame'>\n",
      "RangeIndex: 11271 entries, 0 to 11270\n",
      "Data columns (total 2 columns):\n",
      " #   Column  Non-Null Count  Dtype \n",
      "---  ------  --------------  ----- \n",
      " 0   tweets  11271 non-null  object\n",
      " 1   class   11271 non-null  int64 \n",
      "dtypes: int64(1), object(1)\n",
      "memory usage: 176.2+ KB\n"
     ]
    }
   ],
   "source": [
    "dfo = pd.read_csv('data/obama_cleaned.csv')\n",
    "dfr = pd.read_csv('data/romney_cleaned.csv')\n",
    "df = pd.concat([dfo, dfr], ignore_index = True)\n",
    "df.info()\n",
    "pd.set_option('display.max_rows', None)"
   ]
  },
  {
   "cell_type": "code",
   "execution_count": 3,
   "id": "697deb98",
   "metadata": {},
   "outputs": [],
   "source": [
    "df = df.astype({'tweets' : 'string'})"
   ]
  },
  {
   "cell_type": "code",
   "execution_count": 4,
   "id": "0f1d5181",
   "metadata": {},
   "outputs": [
    {
     "name": "stdout",
     "output_type": "stream",
     "text": [
      "<class 'pandas.core.frame.DataFrame'>\n",
      "RangeIndex: 11271 entries, 0 to 11270\n",
      "Data columns (total 2 columns):\n",
      " #   Column  Non-Null Count  Dtype \n",
      "---  ------  --------------  ----- \n",
      " 0   tweets  11271 non-null  string\n",
      " 1   class   11271 non-null  int64 \n",
      "dtypes: int64(1), string(1)\n",
      "memory usage: 176.2 KB\n"
     ]
    }
   ],
   "source": [
    "df.info()"
   ]
  },
  {
   "cell_type": "markdown",
   "id": "77694489",
   "metadata": {},
   "source": [
    "# Pre-trained model: BERTweet"
   ]
  },
  {
   "cell_type": "code",
   "execution_count": 5,
   "id": "6400df5c",
   "metadata": {},
   "outputs": [],
   "source": [
    "\n",
    "analyzer = create_analyzer(task=\"sentiment\", lang=\"en\")\n"
   ]
  },
  {
   "cell_type": "code",
   "execution_count": 6,
   "id": "d49275e2",
   "metadata": {},
   "outputs": [],
   "source": [
    "def get_prob_dictionary(p):\n",
    "    start_index = p.find(\"{\") + 1\n",
    "    end_index = p.rfind(\"}\")\n",
    "    d = p[start_index:end_index]\n",
    "    scores = d.split(', ')\n",
    "    probs = dict()\n",
    "    for i in range(0, len(scores)):\n",
    "        k, v = scores[i].split(': ')\n",
    "        probs[k] = float(v)\n",
    "    return probs\n"
   ]
  },
  {
   "cell_type": "code",
   "execution_count": 7,
   "id": "d66d5c02",
   "metadata": {
    "scrolled": true
   },
   "outputs": [],
   "source": [
    "\n",
    "pos = list()\n",
    "neg = list()\n",
    "neu = list()\n",
    "\n",
    "for t in df['tweets']:\n",
    "    p = get_prob_dictionary(str(analyzer.predict(t)))\n",
    "    pos.append(p['POS'])\n",
    "    neg.append(p['NEG'])\n",
    "    neu.append(p['NEU'])\n",
    "\n",
    "\n",
    "df['pos'] = pos\n",
    "df['neg'] = neg\n",
    "df['neu'] = neu"
   ]
  },
  {
   "cell_type": "code",
   "execution_count": 8,
   "id": "9d0d0f0d",
   "metadata": {},
   "outputs": [
    {
     "name": "stdout",
     "output_type": "stream",
     "text": [
      "<class 'pandas.core.frame.DataFrame'>\n",
      "RangeIndex: 11271 entries, 0 to 11270\n",
      "Data columns (total 5 columns):\n",
      " #   Column  Non-Null Count  Dtype  \n",
      "---  ------  --------------  -----  \n",
      " 0   tweets  11271 non-null  string \n",
      " 1   class   11271 non-null  int64  \n",
      " 2   pos     11271 non-null  float64\n",
      " 3   neg     11271 non-null  float64\n",
      " 4   neu     11271 non-null  float64\n",
      "dtypes: float64(3), int64(1), string(1)\n",
      "memory usage: 440.4 KB\n"
     ]
    }
   ],
   "source": [
    "df.info()"
   ]
  },
  {
   "cell_type": "markdown",
   "id": "9fc575a6",
   "metadata": {},
   "source": [
    "# Predict label using maximum probability\n"
   ]
  },
  {
   "cell_type": "code",
   "execution_count": 9,
   "id": "6dfd0268",
   "metadata": {},
   "outputs": [],
   "source": [
    "preds = list()\n",
    "for idx, row in df.iterrows():\n",
    "    if row['pos'] >= row['neu'] and row['pos'] >= row['neg']:\n",
    "        preds.append(1)\n",
    "    elif row['neg'] >= row['neu'] and row['neg'] > row['pos']:\n",
    "        preds.append(-1)\n",
    "    elif row['neu'] > row['pos'] and row['neu'] > row['neg']:\n",
    "        preds.append(0)\n",
    "df['pred'] = preds"
   ]
  },
  {
   "cell_type": "code",
   "execution_count": 10,
   "id": "6722c123",
   "metadata": {},
   "outputs": [
    {
     "name": "stdout",
     "output_type": "stream",
     "text": [
      "Accuracy: 0.6247005589566144\n",
      "Precision: [0.68694362 0.51322085 0.68081761]\n",
      "Recall: [0.76213992 0.55728739 0.47167756]\n",
      "F1: [0.72259071 0.53434714 0.55727156]\n"
     ]
    }
   ],
   "source": [
    "acc = accuracy_score(df['class'], df['pred'])\n",
    "prec = precision_score(df['class'], df['pred'], average = None, zero_division = np.nan)\n",
    "rec = recall_score(df['class'], df['pred'], average = None)\n",
    "f1 = f1_score(df['class'], df['pred'], average = None)\n",
    "print(\"Accuracy:\", acc)\n",
    "print(\"Precision:\", prec)\n",
    "print(\"Recall:\", rec)\n",
    "print(\"F1:\", f1)"
   ]
  },
  {
   "cell_type": "code",
   "execution_count": null,
   "id": "7c6aa033",
   "metadata": {},
   "outputs": [],
   "source": []
  }
 ],
 "metadata": {
  "kernelspec": {
   "display_name": "Python 3 (ipykernel)",
   "language": "python",
   "name": "python3"
  },
  "language_info": {
   "codemirror_mode": {
    "name": "ipython",
    "version": 3
   },
   "file_extension": ".py",
   "mimetype": "text/x-python",
   "name": "python",
   "nbconvert_exporter": "python",
   "pygments_lexer": "ipython3",
   "version": "3.10.12"
  }
 },
 "nbformat": 4,
 "nbformat_minor": 5
}
